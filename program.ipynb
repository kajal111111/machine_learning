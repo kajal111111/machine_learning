{
 "cells": [
  {
   "cell_type": "code",
   "execution_count": 11,
   "id": "b9a42f05-3fdc-4ca1-8168-64af7b3d53d8",
   "metadata": {},
   "outputs": [],
   "source": [
    "import seaborn as sns\n",
    "import numpy as np\n",
    "import matplotlib.pyplot as plt\n",
    "import pandas as pd\n",
    "import warnings\n",
    "warnings.simplefilter('ignore')\n",
    "data = pd.read_csv('Transformed_Housing_Data2.csv')\n",
    "data.head()"
   ]
  },
  {
   "cell_type": "code",
   "execution_count": null,
   "id": "f6164646-bbba-4689-ae9f-8a04b9e0931b",
   "metadata": {},
   "outputs": [],
   "source": [
    "data['mean_sales'] = data['Sale_Price'].mean()\n",
    "data['mean_sales'].head()"
   ]
  },
  {
   "cell_type": "code",
   "execution_count": null,
   "id": "4f8777a2-50c9-40b5-a905-6e6b0ddd599c",
   "metadata": {},
   "outputs": [],
   "source": [
    "\n",
    "### Start code ###\n",
    "floor_mean = None\n",
    "### End code ###\n",
    "floor_mean"
   ]
  },
  {
   "cell_type": "code",
   "execution_count": null,
   "id": "8b11a683-bfa2-4f60-8c91-7eae40d8d52a",
   "metadata": {},
   "outputs": [],
   "source": [
    "# making new column\n",
    "data['floor_mean'] = 0\n",
    "\n",
    "# for every unique floor_mean, fill its mean price in new column \"floor_mean\"\n",
    "for i in floor_mean.columns:\n",
    "  ### start code ###\n",
    "  \n",
    "  ### end code ###\n",
    "\n",
    "data['floor_mean'].head()"
   ]
  },
  {
   "cell_type": "code",
   "execution_count": null,
   "id": "ff9033c4-0cf3-43b4-9037-4c1c7232716e",
   "metadata": {},
   "outputs": [],
   "source": [
    "## Calculating residuals floor_mean_difference and mean_difference\n",
    "### start code###\n",
    "mean_difference = None\n",
    "floor_mean_difference = None\n",
    "### end code ###\n",
    "mean_difference.size, floor_mean_difference.size"
   ]
  },
  {
   "cell_type": "code",
   "execution_count": null,
   "id": "de7cfedd-79d6-4238-a1ee-3450d438168f",
   "metadata": {},
   "outputs": [],
   "source": [
    "## Plotting the Residuals for comparison\n",
    "\n",
    "k = range(0, len(data)) # for x axis\n",
    "l = [0 for i in range(len(data))] # for regression line in residual plot\n",
    "\n",
    "plt.figure( figsize = (15,6), dpi =100)\n",
    "\n",
    "################## plot for Overall Mean ####################\n",
    "plt.subplot(1,2,1)\n",
    "#code to create the residual of mean regression model along with regression line\n",
    "### start code ###\n",
    "plt.scatter()\n",
    "plt.plot()\n",
    "### end code ###\n",
    "plt.xlabel('Fitted points')\n",
    "plt.ylabel(\"Residuals\")\n",
    "plt.title('Residuals with respect to Overall Mean')\n",
    "\n",
    "\n",
    "################## plot for Overall Mean ####################\n",
    "plt.subplot(1,2,2)\n",
    "#code to create the residual of floor mean regression model along with regression line\n",
    "### start code ###\n",
    "plt.scatter()\n",
    "plt.plot()\n",
    "### end code ###\n",
    "plt.xlabel('Fitted points')\n",
    "plt.ylabel(\"Residuals\")\n",
    "plt.title(\"Residuals with respect to Number of Floors\")\n",
    "\n",
    "plt.legend()"
   ]
  },
  {
   "cell_type": "code",
   "execution_count": null,
   "id": "e1505da7-62d7-4148-85c9-d9d75a3af0dd",
   "metadata": {},
   "outputs": [],
   "source": [
    "## Calculate mean square error for overall mean regression model and call it MSE 1\n",
    "### start code ###\n",
    "MSE1 = None\n",
    "### end code ###\n",
    "\n",
    "## Calculate mean square error for floor mean regression model and call it MSE 2\n",
    "### start code ###\n",
    "MSE2 = None\n",
    "### end code ###\n",
    "\n",
    "## calculate R-Square value using the formula and call it R2\n",
    "### start code ###\n",
    "R2 = None\n",
    "### end code ###\n",
    "R2"
   ]
  },
  {
   "cell_type": "code",
   "execution_count": null,
   "id": "675afe1e-f667-4802-a955-d5de91d5de66",
   "metadata": {},
   "outputs": [],
   "source": []
  },
  {
   "cell_type": "code",
   "execution_count": null,
   "id": "7d07b2b2-68c9-429d-812e-83a0849c6689",
   "metadata": {},
   "outputs": [],
   "source": []
  },
  {
   "cell_type": "code",
   "execution_count": null,
   "id": "b398a64f-4c48-4fcb-a2f3-ed83b3ea0f7a",
   "metadata": {},
   "outputs": [],
   "source": []
  },
  {
   "cell_type": "code",
   "execution_count": null,
   "id": "b8cc0fc3-bb5a-42e6-974e-2e2f15b82f9e",
   "metadata": {},
   "outputs": [],
   "source": []
  },
  {
   "cell_type": "code",
   "execution_count": null,
   "id": "bea61839-c464-46e6-92ed-5d0507d8f636",
   "metadata": {},
   "outputs": [],
   "source": []
  },
  {
   "cell_type": "code",
   "execution_count": null,
   "id": "487b6c86-66b7-4405-93cb-42362f85ca17",
   "metadata": {},
   "outputs": [],
   "source": []
  },
  {
   "cell_type": "code",
   "execution_count": null,
   "id": "b01d8b55-5aee-4d17-9cfb-f22964193e32",
   "metadata": {},
   "outputs": [],
   "source": []
  },
  {
   "cell_type": "code",
   "execution_count": null,
   "id": "427411b5-d852-43e5-8cb6-d97c98e70aab",
   "metadata": {},
   "outputs": [],
   "source": []
  }
 ],
 "metadata": {
  "kernelspec": {
   "display_name": "Python 3 (ipykernel)",
   "language": "python",
   "name": "python3"
  },
  "language_info": {
   "codemirror_mode": {
    "name": "ipython",
    "version": 3
   },
   "file_extension": ".py",
   "mimetype": "text/x-python",
   "name": "python",
   "nbconvert_exporter": "python",
   "pygments_lexer": "ipython3",
   "version": "3.11.7"
  }
 },
 "nbformat": 4,
 "nbformat_minor": 5
}
